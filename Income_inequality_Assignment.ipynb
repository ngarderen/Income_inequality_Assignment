{
  "nbformat": 4,
  "nbformat_minor": 0,
  "metadata": {
    "colab": {
      "provenance": []
    },
    "kernelspec": {
      "name": "python3",
      "display_name": "Python 3"
    },
    "language_info": {
      "name": "python"
    }
  },
  "cells": [
    {
      "cell_type": "code",
      "execution_count": null,
      "metadata": {
        "id": "2WtFkzUksDcm"
      },
      "outputs": [],
      "source": [
        "import numpy as np\n",
        "import pandas as pd\n",
        "import matplotlib.pyplot as plt\n",
        "%load_ext google.colab.data_table\n"
      ]
    },
    {
      "cell_type": "code",
      "source": [
        "# 2 dataframes GDP en Gini_index, gemerged op naam van Country\n",
        "# Gini index geeft per land een getal tussen de 0-1, hoe dichter bij de 1 hoe hoger de income inequality is, hoogste is momenteel 0.54 en de laagste 0.25\n",
        "\n",
        "gdp = pd.read_csv(\"/content/drive/MyDrive/Winc Exercise/gdp-per-capita-maddison-2020.csv\", encoding=\"latin1\") #bestand toevoegen aan github, uitzoeken hoe\n",
        "\n",
        "gdp = gdp.rename(columns={\"Entity\" : \"Country\", \"GDP per capita\" : \"GDP\"})\n",
        "gdp = gdp[(gdp[\"Year\"] == 2018)]\n",
        "gdp = gdp.loc[:, [\"Country\", \"GDP\"]]\n",
        "\n",
        "gini_index = pd.read_csv(\"/content/drive/MyDrive/Winc Exercise/economic-inequality-gini-index.csv\", encoding=\"latin1\") #bestand toevoegen aan github, uitzoeken hoe\n",
        "\n",
        "gini_index = gini_index.rename(columns={\"Entity\" : \"Country\", \"Gini coefficient\" : \"Gini\"})\n",
        "gini_index = gini_index[(gini_index[\"Year\"] == 2018)]\n",
        "gini_index = gini_index.loc[:, [\"Country\", \"Gini\"]]\n",
        "gini_index['Gini'] = gini_index['Gini'].round(2) #kolom Gini afronden naar 2 decimalen\n",
        "\n",
        "df_merge = pd.merge(gdp, gini_index, on='Country')\n",
        "df_merge = df_merge.set_index('Country')\n",
        "df_merge = df_merge.sort_values(by=\"GDP\", ascending=False)\n"
      ],
      "metadata": {
        "id": "HUL0oiJysFgk"
      },
      "execution_count": null,
      "outputs": []
    },
    {
      "cell_type": "code",
      "source": [
        "#pearson Correlation Coefficient & scatterplot\n",
        "\n",
        "df_merge.corr() # 0.36\n",
        "\n",
        "plt.scatter(df_merge[\"GDP\"], df_merge[\"Gini\"], alpha=0.5)\n",
        "plt.xlabel(\"Copuntry GDP 2018\")\n",
        "plt.ylabel(\"Pearson Coefficient\")\n",
        "plt.ylim(0, 1)\n",
        "plt.show()"
      ],
      "metadata": {
        "id": "w_1dGh_6-TLz"
      },
      "execution_count": null,
      "outputs": []
    },
    {
      "cell_type": "markdown",
      "source": [
        "In de GDP data zijn 178 landen van de 195 totaal represent.\n",
        "Terwijl maar 90 landen aanwezig zijn vanuit de Gini_index, de merge dataframe bestaat vervolgens uit 83 landen.\n",
        "Dit betekend dat we maar data hebben van iets minder dan de helft van alle landen, vermoedelijk liggen de grote uitschieters ook bij de landen die minder transparant zijn.\n",
        "\n",
        "Vraag:\n",
        "Is there a relation between a country's Gross Domestrict Product (GDP) and its income inequality?\n",
        "\n",
        "\n",
        "Het blijft lastige vraag om te beantwoorden, zeker omdat er best wel wat bias is en het lastig is om objectief te blijven.\n",
        "In mijn ogen zijn de grootste factoren voor income inequality, 1) onderwijs 2) discriminatie 3) afkomst met betrekking op vermogen, geld maakt geld.\n",
        "Wat inpliciet bij mij aangeeft hoe hoger de GDP hoe lager de Gini_index zal zijn.\n",
        "\n",
        "Objectief gekeken naar de data, de pearson Correlation Coefficient is 0.36 dit houd in dat er wel degelijk een relatie is tussen hoe hoog de GDP is met betrekking tot de Gini_index, echter volgens de tabel (0.20 < 0.40) is dit wel een magere correlatie. \n",
        "\n",
        "In een scatterplot zie je dit ook mooi terug, je ziet wat uitschieters in landen met een lagere GDP, en hoe hoger de GDP word hoe kleiner de verschillen zijn.\n"
      ],
      "metadata": {
        "id": "I8PaJHSiPdO1"
      }
    }
  ]
}