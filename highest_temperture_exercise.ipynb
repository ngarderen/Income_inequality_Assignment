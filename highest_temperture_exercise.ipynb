{
  "nbformat": 4,
  "nbformat_minor": 0,
  "metadata": {
    "colab": {
      "provenance": []
    },
    "kernelspec": {
      "name": "python3",
      "display_name": "Python 3"
    },
    "language_info": {
      "name": "python"
    }
  },
  "cells": [
    {
      "cell_type": "code",
      "execution_count": null,
      "metadata": {
        "id": "PqDhJxQraYLg"
      },
      "outputs": [],
      "source": [
        "import numpy as np\n",
        "import pandas as pd\n",
        "import matplotlib.pyplot as plt\n",
        "%load_ext google.colab.data_table"
      ]
    },
    {
      "cell_type": "code",
      "source": [
        "df = pd.read_csv(\"/content/drive/MyDrive/Winc Exercise/Environment_Temperature_change_E_All_Data_NOFLAG.csv\", encoding=\"latin1\")\n",
        "df.set_index(\"Area\", inplace=True)\n"
      ],
      "metadata": {
        "id": "_78q63gGalfp"
      },
      "execution_count": null,
      "outputs": []
    },
    {
      "cell_type": "code",
      "source": [
        "drop_list = [\"World\", \"OECD\", \"Non-Annex I countries\", \"Annex I countries\", \"Net Food Importing Developing Countries\", \n",
        "             \"Low Income Food Deficit Countries\", \"Small Island Developing States\", \"Land Locked Developing Countries\", \n",
        "             \"Least Developed Countries\", \"European Union\"]\n",
        "\n",
        "for x in drop_list:\n",
        "  df = df.drop(df[df.index == x].index)\n",
        "\n",
        "df = df.loc[df[\"Months\"] == \"Meteorological year\"]\n",
        "df = df.loc[df[\"Element\"] == \"Temperature change\"]\n",
        "df2 = df.drop([\"Area Code\", \"Months Code\", \"Months\", \"Element Code\", \"Element\", \"Unit\"], axis=1)\n"
      ],
      "metadata": {
        "id": "KCsmrPO0esuA"
      },
      "execution_count": null,
      "outputs": []
    },
    {
      "cell_type": "code",
      "source": [
        "# bereken moving averages van de afgelopen 10 jaar\n",
        "\n",
        "df_rolling = df2.rolling(window=10, axis=1).mean()\n",
        "biggest_change = (df_rolling.max(axis=1)) - (df_rolling.min(axis=1))\n",
        "biggest_change_sorted = biggest_change.sort_values(ascending=False)\n",
        "print(biggest_change_sorted.head(3))\n"
      ],
      "metadata": {
        "id": "nC9xubEZsx1l"
      },
      "execution_count": null,
      "outputs": []
    }
  ]
}